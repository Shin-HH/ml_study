{
 "cells": [
  {
   "cell_type": "markdown",
   "id": "f1e074e2",
   "metadata": {},
   "source": [
    "### MSE를 Loss function으로 사용하는 경우 한계\n",
    "loss fuction으로 MSE를 사용하는 경우 weak model은 residual에 대해 학습하게 되고, composite model을 각 leaf node의 평균 값으로 예측하게 된다. 불행하게도 MSE를 손실함수로 정의하는 경우에는 composite model이 outlier의 영향을 많이 받게 된다. 그 이유는 평균이라는 통계량이 outlier에 영향을 많이 받기 때문이다.\n",
    "  \n",
    "위와 같은 이유로 인해 outlier가 많이 존재할 경우, weak model이 방향과 크기를 모두 가지는 residual을 학습하는 모델보다는 $F_{m-1}$에서 $y$로의 방향에만 집중하는 모델을 학습하는 것이 더 합리적일 것이다."
   ]
  },
  {
   "cell_type": "markdown",
   "id": "70bb996a",
   "metadata": {},
   "source": [
    "### Sign Vector\n",
    "**sign vector**: $sign(y_i - F_{m-1}(x_i))$  \n",
    "sign vector의 원소들은 {-1, 0, 1} 중 하나의 값을 가지게 된다. sign vector를 사용할 경우 실제값이 현재 예측값과 얼마나 떨어져 있는지는 상관없이 방향 정보만을 사용해서 weak model들이 학습된다. **While we train the weak models on the sign vector, the weak models are modified to predict a residual not a sign vector! (A stump leaf predicts the median of all the residuals within that leaf, to be precise.) More on this later.**\n",
    "\n",
    "  \n",
    "target 변수에 제거할 수 없는 outlier가 존재할 경우 크기와 방향 모두가 아닌, 방향에만 우리의 weak model을 학습시키는 것이 더 낫다. $sign(y - F_{m-1}(x_i))$를 사용하는 경우 MAE(Mean Absolute Error or L1 loss) 손실함수로 해 모델을 최적화 하는 것과 같다.\n",
    "  \n",
    "MAE에 대해 최적화할 경우 우리는 평균이 아닌 중앙값으로 $f_0$를 셋팅해야한다. 그 이유는 중앙값이 L1 loss를 최소화하는 상수값이기 때문이다.\n",
    "\n",
    "> $F_0(x) = f_0(x)$  \n",
    "> $F_m(x) = F_{m-1} + \\eta\\Delta_m(x)$  \n",
    "\n",
    "위의 식은 MSE에 대해 최적화할 때와 같다. 즉, $f_0$와 $\\Delta_m$이 추정하는 값이 다를 뿐 학습과정은 MSE가 손실함수일 때와 같다."
   ]
  },
  {
   "cell_type": "code",
   "execution_count": 9,
   "id": "4e47033c",
   "metadata": {},
   "outputs": [
    {
     "data": {
      "text/markdown": [
       "### Orignal Dataset"
      ],
      "text/plain": [
       "<IPython.core.display.Markdown object>"
      ]
     },
     "metadata": {},
     "output_type": "display_data"
    },
    {
     "data": {
      "text/html": [
       "<div>\n",
       "<style scoped>\n",
       "    .dataframe tbody tr th:only-of-type {\n",
       "        vertical-align: middle;\n",
       "    }\n",
       "\n",
       "    .dataframe tbody tr th {\n",
       "        vertical-align: top;\n",
       "    }\n",
       "\n",
       "    .dataframe thead th {\n",
       "        text-align: right;\n",
       "    }\n",
       "</style>\n",
       "<table border=\"1\" class=\"dataframe\">\n",
       "  <thead>\n",
       "    <tr style=\"text-align: right;\">\n",
       "      <th></th>\n",
       "      <th>sqfeet</th>\n",
       "      <th>rent</th>\n",
       "    </tr>\n",
       "  </thead>\n",
       "  <tbody>\n",
       "    <tr>\n",
       "      <th>0</th>\n",
       "      <td>750</td>\n",
       "      <td>1160</td>\n",
       "    </tr>\n",
       "    <tr>\n",
       "      <th>1</th>\n",
       "      <td>800</td>\n",
       "      <td>1200</td>\n",
       "    </tr>\n",
       "    <tr>\n",
       "      <th>2</th>\n",
       "      <td>850</td>\n",
       "      <td>1280</td>\n",
       "    </tr>\n",
       "    <tr>\n",
       "      <th>3</th>\n",
       "      <td>900</td>\n",
       "      <td>1450</td>\n",
       "    </tr>\n",
       "    <tr>\n",
       "      <th>4</th>\n",
       "      <td>950</td>\n",
       "      <td>2000</td>\n",
       "    </tr>\n",
       "  </tbody>\n",
       "</table>\n",
       "</div>"
      ],
      "text/plain": [
       "   sqfeet  rent\n",
       "0     750  1160\n",
       "1     800  1200\n",
       "2     850  1280\n",
       "3     900  1450\n",
       "4     950  2000"
      ]
     },
     "metadata": {},
     "output_type": "display_data"
    }
   ],
   "source": [
    "import numpy as np\n",
    "import pandas as pd\n",
    "from IPython.display import Markdown, display\n",
    "sqfeet = np.array([750, 800, 850, 900, 950]) # feature\n",
    "rent = np.array([1160, 1200, 1280, 1450, 2000]) # target\n",
    "\n",
    "dataset = pd.DataFrame({\n",
    "    'sqfeet' : sqfeet,\n",
    "    'rent' : rent\n",
    "})\n",
    "display(Markdown('### Orignal Dataset'), dataset)"
   ]
  },
  {
   "cell_type": "code",
   "execution_count": 10,
   "id": "090ec544",
   "metadata": {},
   "outputs": [
    {
     "data": {
      "text/markdown": [
       "$F_0(x)$는 중앙값으로 예측"
      ],
      "text/plain": [
       "<IPython.core.display.Markdown object>"
      ]
     },
     "metadata": {},
     "output_type": "display_data"
    },
    {
     "data": {
      "text/html": [
       "<div>\n",
       "<style scoped>\n",
       "    .dataframe tbody tr th:only-of-type {\n",
       "        vertical-align: middle;\n",
       "    }\n",
       "\n",
       "    .dataframe tbody tr th {\n",
       "        vertical-align: top;\n",
       "    }\n",
       "\n",
       "    .dataframe thead th {\n",
       "        text-align: right;\n",
       "    }\n",
       "</style>\n",
       "<table border=\"1\" class=\"dataframe\">\n",
       "  <thead>\n",
       "    <tr style=\"text-align: right;\">\n",
       "      <th></th>\n",
       "      <th>sqfeet</th>\n",
       "      <th>rent</th>\n",
       "      <th>$F_0$</th>\n",
       "      <th>y - $F_0$</th>\n",
       "      <th>sign(y - $F_0$)</th>\n",
       "    </tr>\n",
       "  </thead>\n",
       "  <tbody>\n",
       "    <tr>\n",
       "      <th>0</th>\n",
       "      <td>750</td>\n",
       "      <td>1160</td>\n",
       "      <td>1280.0</td>\n",
       "      <td>-120.0</td>\n",
       "      <td>-1.0</td>\n",
       "    </tr>\n",
       "    <tr>\n",
       "      <th>1</th>\n",
       "      <td>800</td>\n",
       "      <td>1200</td>\n",
       "      <td>1280.0</td>\n",
       "      <td>-80.0</td>\n",
       "      <td>-1.0</td>\n",
       "    </tr>\n",
       "    <tr>\n",
       "      <th>2</th>\n",
       "      <td>850</td>\n",
       "      <td>1280</td>\n",
       "      <td>1280.0</td>\n",
       "      <td>0.0</td>\n",
       "      <td>0.0</td>\n",
       "    </tr>\n",
       "    <tr>\n",
       "      <th>3</th>\n",
       "      <td>900</td>\n",
       "      <td>1450</td>\n",
       "      <td>1280.0</td>\n",
       "      <td>170.0</td>\n",
       "      <td>1.0</td>\n",
       "    </tr>\n",
       "    <tr>\n",
       "      <th>4</th>\n",
       "      <td>950</td>\n",
       "      <td>2000</td>\n",
       "      <td>1280.0</td>\n",
       "      <td>720.0</td>\n",
       "      <td>1.0</td>\n",
       "    </tr>\n",
       "  </tbody>\n",
       "</table>\n",
       "</div>"
      ],
      "text/plain": [
       "   sqfeet  rent   $F_0$  y - $F_0$  sign(y - $F_0$)\n",
       "0     750  1160  1280.0     -120.0             -1.0\n",
       "1     800  1200  1280.0      -80.0             -1.0\n",
       "2     850  1280  1280.0        0.0              0.0\n",
       "3     900  1450  1280.0      170.0              1.0\n",
       "4     950  2000  1280.0      720.0              1.0"
      ]
     },
     "metadata": {},
     "output_type": "display_data"
    }
   ],
   "source": [
    "f_0 = np.median(dataset['rent'])\n",
    "F_0 = f_0\n",
    "residual = dataset['rent'] - F_0\n",
    "sign_residual = np.sign(residual)\n",
    "\n",
    "dataset['$F_0$'] = np.zeros_like(residual) + F_0\n",
    "dataset['y - $F_0$'] = residual\n",
    "dataset['sign(y - $F_0$)'] = sign_residual\n",
    "\n",
    "display(Markdown('$F_0(x)$는 중앙값으로 예측'), dataset)"
   ]
  },
  {
   "cell_type": "code",
   "execution_count": 12,
   "id": "0be227dd",
   "metadata": {},
   "outputs": [
    {
     "data": {
      "image/png": "[encoded data removed]",
      "text/plain": [
       "<Figure size 432x288 with 1 Axes>"
      ]
     },
     "metadata": {
      "needs_background": "light"
     },
     "output_type": "display_data"
    }
   ],
   "source": [
    "import matplotlib.pyplot as plt\n",
    "\n",
    "plt.figure()\n",
    "plt.scatter(dataset['sqfeet'], dataset['rent'])\n",
    "plt.hlines(1280, 750, 950, linestyle = '--', linewidth = 1, alpha = .5, color = 'black')\n",
    "plt.scatter(dataset['sqfeet'], dataset['sign(y - $F_0$)'] + 1280, marker = 'x', color = 'red', label = '$sign(y - f_0(x))$')\n",
    "plt.xlabel('SqFeet')\n",
    "plt.ylabel('Rent')\n",
    "plt.legend();\n"
   ]
  },
  {
   "cell_type": "markdown",
   "id": "180f7937",
   "metadata": {},
   "source": [
    "- 위의 그래프를 확대해서 보면 sign vector의 원소들이 예측값 $f_0(x)$에서 실제값 $y_i$의 방향을 잘 나타내고 있음을 볼 수 있다."
   ]
  },
  {
   "attachments": {
    "image.png": {
     "image/png": "[encoded data removed]"
    }
   },
   "cell_type": "markdown",
   "id": "27440f7c",
   "metadata": {},
   "source": [
    "### Two perspectives on training weak models for L1 loss\n",
    "**objective**: 초기 예측값인 $f_0(x)$가 실제 target vector인 $y$로 향할 수 있도록 하는 weak model인 regression tree($\\Delta_m$)의 series를 만드는 것\n",
    "\n",
    "![image.png](attachment:image.png)\n",
    "\n",
    "> 첫번째 tree인 \\Delta_1은 $sign(y - F_0(x))$에 대해 학습해야 한다.  \n",
    "> 또한 L1 loss를 사용했기 때문에 각 leaf node의 예측값은 평균이 아닌 중앙값이 되어야 한다.\n",
    "  \n"
   ]
  },
  {
   "cell_type": "code",
   "execution_count": null,
   "id": "ccedd4b4",
   "metadata": {},
   "outputs": [],
   "source": []
  }
 ],
 "metadata": {
  "kernelspec": {
   "display_name": "Python 3 (ipykernel)",
   "language": "python",
   "name": "python3"
  },
  "language_info": {
   "codemirror_mode": {
    "name": "ipython",
    "version": 3
   },
   "file_extension": ".py",
   "mimetype": "text/x-python",
   "name": "python",
   "nbconvert_exporter": "python",
   "pygments_lexer": "ipython3",
   "version": "3.9.12"
  }
 },
 "nbformat": 4,
 "nbformat_minor": 5
}
